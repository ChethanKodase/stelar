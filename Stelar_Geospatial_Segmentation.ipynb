{
  "cells": [
    {
      "attachments": {},
      "cell_type": "markdown",
      "metadata": {
        "colab_type": "text",
        "id": "view-in-github"
      },
      "source": [
        "<a href=\"https://colab.research.google.com/github/prodramp/DeepWorks/blob/main/DL-SatelliteImagery/Satellite_Imagery_Segmentation.ipynb\" target=\"_parent\"><img src=\"https://colab.research.google.com/assets/colab-badge.svg\" alt=\"Open In Colab\"/></a>"
      ]
    },
    {
      "cell_type": "code",
      "execution_count": 1,
      "metadata": {
        "id": "ZcQm4iMffm6p"
      },
      "outputs": [],
      "source": [
        "import os\n",
        "import cv2\n",
        "from PIL import Image \n",
        "import numpy as np \n",
        "from patchify import patchify\n",
        "from sklearn.preprocessing import MinMaxScaler, StandardScaler\n",
        "\n",
        "from matplotlib import pyplot as plt\n",
        "import random"
      ]
    },
    {
      "cell_type": "code",
      "execution_count": null,
      "metadata": {
        "id": "jRlTUvJ_rFYw"
      },
      "outputs": [],
      "source": [
        "minmaxscaler = MinMaxScaler()"
      ]
    },
    {
      "cell_type": "code",
      "execution_count": null,
      "metadata": {
        "id": "U6F-SlBiewSn"
      },
      "outputs": [],
      "source": [
        "dataset_root_folder = './dataset_tut/'\n",
        "dataset_name = 'Dubai_Dataset'"
      ]
    },
    {
      "cell_type": "code",
      "execution_count": null,
      "metadata": {
        "colab": {
          "base_uri": "https://localhost:8080/"
        },
        "id": "lz0A6YJtfJib",
        "outputId": "34e29deb-5f2d-4189-d653-fd63b821b111"
      },
      "outputs": [],
      "source": [
        "for path, subdirs, files in os.walk(os.path.join(dataset_root_folder, dataset_name)):\n",
        "  dir_name = path.split(os.path.sep)[-1]\n",
        "  #print(dir_name)\n",
        "  if dir_name == 'masks': # 'images\n",
        "    images = os.listdir(path)\n",
        "    print(path)\n",
        "    #print(images)\n",
        "    for i, image_name in enumerate(images):\n",
        "      if (image_name.endswith('.png')): # '.jpg\n",
        "        #print(image_name)\n",
        "        a = True"
      ]
    },
    {
      "cell_type": "code",
      "execution_count": null,
      "metadata": {
        "id": "KgCSYp45kBgW"
      },
      "outputs": [],
      "source": [
        "image_patch_size = 256"
      ]
    },
    {
      "cell_type": "code",
      "execution_count": null,
      "metadata": {
        "id": "iLDzVDv3f48Y"
      },
      "outputs": [],
      "source": [
        "image = cv2.imread(f'{dataset_root_folder}/{dataset_name}/Tile 2/images/image_part_001.jpg',1)"
      ]
    },
    {
      "cell_type": "code",
      "execution_count": null,
      "metadata": {
        "colab": {
          "base_uri": "https://localhost:8080/"
        },
        "id": "XpxEOKwDnZHL",
        "outputId": "1b113cd4-f84c-4319-a8d0-2a5ac63b1300"
      },
      "outputs": [],
      "source": [
        "image.shape"
      ]
    },
    {
      "cell_type": "code",
      "execution_count": null,
      "metadata": {
        "id": "OB1M28IEnFzv"
      },
      "outputs": [],
      "source": [
        "image_patches = patchify(image, (image_patch_size, image_patch_size, 3), step=image_patch_size)"
      ]
    },
    {
      "cell_type": "code",
      "execution_count": null,
      "metadata": {
        "colab": {
          "base_uri": "https://localhost:8080/"
        },
        "id": "VrzzDlKrnTZb",
        "outputId": "b86cc803-1ea9-4268-d513-b1b9c04886fa"
      },
      "outputs": [],
      "source": [
        "len(image_patches)"
      ]
    },
    {
      "cell_type": "code",
      "execution_count": null,
      "metadata": {
        "colab": {
          "base_uri": "https://localhost:8080/"
        },
        "id": "mnnxPjtFoNYe",
        "outputId": "9cb301a2-23bf-4455-a1c7-1e79bee5f9c3"
      },
      "outputs": [],
      "source": [
        "print(image_patches.shape)"
      ]
    },
    {
      "cell_type": "code",
      "execution_count": null,
      "metadata": {
        "id": "u0KXQc8eqiI3"
      },
      "outputs": [],
      "source": [
        "minmaxscaler = MinMaxScaler()"
      ]
    },
    {
      "cell_type": "code",
      "execution_count": null,
      "metadata": {
        "id": "-pTmZWwjpc3q"
      },
      "outputs": [],
      "source": [
        "image_x = image_patches[0,0,:,:]\n",
        "#MinMaxScaler\n",
        "image_y = minmaxscaler.fit_transform(image_x.reshape(-1, image_x.shape[-1])).reshape(image_x.shape)"
      ]
    },
    {
      "cell_type": "code",
      "execution_count": null,
      "metadata": {
        "colab": {
          "base_uri": "https://localhost:8080/"
        },
        "id": "dpvURaKXqy8k",
        "outputId": "d973a416-3ff9-43dd-d281-dd04b537732e"
      },
      "outputs": [],
      "source": [
        "image_y[0].shape"
      ]
    },
    {
      "cell_type": "code",
      "execution_count": null,
      "metadata": {
        "colab": {
          "base_uri": "https://localhost:8080/"
        },
        "id": "VzySbGCdlYA-",
        "outputId": "e8590c2f-cfbf-40b2-ac8a-ac8b573eb924"
      },
      "outputs": [],
      "source": [
        "print(type(image))"
      ]
    },
    {
      "cell_type": "code",
      "execution_count": null,
      "metadata": {
        "colab": {
          "base_uri": "https://localhost:8080/"
        },
        "id": "078hMvhImG86",
        "outputId": "b5b958f7-4900-4ad8-d603-a61d31be04de"
      },
      "outputs": [],
      "source": [
        "type(Image.fromarray(image))"
      ]
    },
    {
      "cell_type": "code",
      "execution_count": null,
      "metadata": {
        "colab": {
          "base_uri": "https://localhost:8080/"
        },
        "id": "oVlBGxqjh9oW",
        "outputId": "e9d20088-8120-465a-fd44-5bf8c4bf1149"
      },
      "outputs": [],
      "source": [
        "image.shape"
      ]
    },
    {
      "cell_type": "code",
      "execution_count": null,
      "metadata": {
        "colab": {
          "base_uri": "https://localhost:8080/"
        },
        "id": "4DVk1FtjkH27",
        "outputId": "eb90722a-e19b-4e02-fcbd-e8d61baf99c1"
      },
      "outputs": [],
      "source": [
        "(image.shape[0]//image_patch_size)*image_patch_size"
      ]
    },
    {
      "cell_type": "code",
      "execution_count": null,
      "metadata": {
        "id": "lk4Shilth_Oq"
      },
      "outputs": [],
      "source": [
        "image_dataset = []\n",
        "mask_dataset = []\n",
        "\n",
        "for image_type in ['images' , 'masks']:\n",
        "  if image_type == 'images':\n",
        "    image_extension = 'jpg'\n",
        "  elif image_type == 'masks':\n",
        "     image_extension = 'png'\n",
        "  for tile_id in range(1,8):\n",
        "    for image_id in range(1,10):\n",
        "      image = cv2.imread(f'{dataset_root_folder}/{dataset_name}/Tile {tile_id}/{image_type}/image_part_00{image_id}.{image_extension}',1)\n",
        "      if image is not None:\n",
        "        if image_type == 'masks':\n",
        "          image = cv2.cvtColor(image, cv2.COLOR_BGR2RGB)\n",
        "        #print(image.shape)\n",
        "        size_x = (image.shape[1]//image_patch_size)*image_patch_size\n",
        "        size_y = (image.shape[0]//image_patch_size)*image_patch_size\n",
        "        #print(\"{} --- {} - {}\".format(image.shape, size_x, size_y))\n",
        "        image = Image.fromarray(image)\n",
        "        image = image.crop((0,0, size_x, size_y))\n",
        "        #print(\"({},  {})\".format(image.size[0],image.size[1]))\n",
        "        image = np.array(image)\n",
        "        patched_images = patchify(image, (image_patch_size, image_patch_size, 3), step=image_patch_size)\n",
        "        #print(len(patched_images))\n",
        "        for i in range(patched_images.shape[0]):\n",
        "          for j in range(patched_images.shape[1]):\n",
        "            if image_type == 'images':\n",
        "              individual_patched_image = patched_images[i,j,:,:]\n",
        "              #print(individual_patched_image.shape)\n",
        "              individual_patched_image = minmaxscaler.fit_transform(individual_patched_image.reshape(-1, individual_patched_image.shape[-1])).reshape(individual_patched_image.shape)\n",
        "              individual_patched_image = individual_patched_image[0]\n",
        "              #print(individual_patched_image.shape)\n",
        "              image_dataset.append(individual_patched_image)\n",
        "            elif image_type == 'masks':\n",
        "              individual_patched_mask = patched_images[i,j,:,:]\n",
        "              individual_patched_mask = individual_patched_mask[0]\n",
        "              mask_dataset.append(individual_patched_mask)\n"
      ]
    },
    {
      "cell_type": "code",
      "execution_count": null,
      "metadata": {
        "colab": {
          "base_uri": "https://localhost:8080/"
        },
        "id": "7nKq-8mbjR5I",
        "outputId": "0e95ca08-f38f-422f-a5a5-4c549df6605b"
      },
      "outputs": [],
      "source": [
        "print(len(image_dataset))\n",
        "print(len(mask_dataset))"
      ]
    },
    {
      "cell_type": "code",
      "execution_count": null,
      "metadata": {
        "id": "mfdsb_pfrcNo"
      },
      "outputs": [],
      "source": [
        "image_dataset = np.array(image_dataset)\n",
        "mask_dataset = np.array(mask_dataset)"
      ]
    },
    {
      "cell_type": "code",
      "execution_count": null,
      "metadata": {
        "colab": {
          "base_uri": "https://localhost:8080/"
        },
        "id": "iWGM5XDMuRwR",
        "outputId": "806ff6ae-31ad-4199-a1fe-80f2e9e47743"
      },
      "outputs": [],
      "source": [
        "print(len(image_dataset))\n",
        "print(len(mask_dataset))"
      ]
    },
    {
      "cell_type": "code",
      "execution_count": null,
      "metadata": {
        "colab": {
          "base_uri": "https://localhost:8080/"
        },
        "id": "sidE4eTivdSz",
        "outputId": "034bee23-8500-4de1-f15b-f2977e6cf52c"
      },
      "outputs": [],
      "source": [
        "type(image_dataset[0])"
      ]
    },
    {
      "cell_type": "code",
      "execution_count": null,
      "metadata": {
        "colab": {
          "base_uri": "https://localhost:8080/"
        },
        "id": "NQ7YMShbvOow",
        "outputId": "67fb0b7a-ef48-4943-ed70-c81d9d3a0d2f"
      },
      "outputs": [],
      "source": [
        "type(np.reshape(image_dataset[0], (image_patch_size, image_patch_size, 3)))"
      ]
    },
    {
      "cell_type": "code",
      "execution_count": null,
      "metadata": {
        "colab": {
          "base_uri": "https://localhost:8080/",
          "height": 423
        },
        "id": "DCSsqNWrum_j",
        "outputId": "91a1bd08-e551-41ce-a59d-7638139bb9f4"
      },
      "outputs": [],
      "source": [
        "random_image_id = random.randint(0, len(image_dataset))\n",
        "\n",
        "plt.figure(figsize=(14,8))\n",
        "plt.subplot(121)\n",
        "plt.imshow(image_dataset[random_image_id])\n",
        "plt.subplot(122)\n",
        "plt.imshow(mask_dataset[random_image_id])"
      ]
    },
    {
      "cell_type": "code",
      "execution_count": null,
      "metadata": {
        "colab": {
          "base_uri": "https://localhost:8080/"
        },
        "id": "LCSNjQ8wu1u5",
        "outputId": "ffdb9db0-2f32-41a3-f141-aa5fef318417"
      },
      "outputs": [],
      "source": [
        "class_building = '#3C1098'\n",
        "class_building = class_building.lstrip('#')\n",
        "class_building = np.array(tuple(int(class_building[i:i+2], 16) for i in (0,2,4)))\n",
        "print(class_building)\n",
        "\n",
        "class_land = '#8429F6'\n",
        "class_land = class_land.lstrip('#')\n",
        "class_land = np.array(tuple(int(class_land[i:i+2], 16) for i in (0,2,4)))\n",
        "print(class_land)\n",
        "\n",
        "class_road = '#6EC1E4'\n",
        "class_road = class_road.lstrip('#')\n",
        "class_road = np.array(tuple(int(class_road[i:i+2], 16) for i in (0,2,4)))\n",
        "print(class_road)\n",
        "\n",
        "class_vegetation = '#FEDD3A'\n",
        "class_vegetation = class_vegetation.lstrip('#')\n",
        "class_vegetation = np.array(tuple(int(class_vegetation[i:i+2], 16) for i in (0,2,4)))\n",
        "print(class_vegetation)\n",
        "\n",
        "class_water = '#E2A929'\n",
        "class_water = class_water.lstrip('#')\n",
        "class_water = np.array(tuple(int(class_water[i:i+2], 16) for i in (0,2,4)))\n",
        "print(class_water)\n",
        "\n",
        "class_unlabeled = '#9B9B9B'\n",
        "class_unlabeled = class_unlabeled.lstrip('#')\n",
        "class_unlabeled = np.array(tuple(int(class_unlabeled[i:i+2], 16) for i in (0,2,4)))\n",
        "print(class_unlabeled)"
      ]
    },
    {
      "cell_type": "code",
      "execution_count": null,
      "metadata": {
        "colab": {
          "base_uri": "https://localhost:8080/"
        },
        "id": "AK-UTcQ3yoLs",
        "outputId": "cc55d8d0-5145-4d09-f6c1-043fa76f3929"
      },
      "outputs": [],
      "source": [
        "mask_dataset.shape"
      ]
    },
    {
      "cell_type": "code",
      "execution_count": null,
      "metadata": {
        "id": "DXC9ppyqzfCr"
      },
      "outputs": [],
      "source": [
        "label = individual_patched_mask"
      ]
    },
    {
      "cell_type": "code",
      "execution_count": null,
      "metadata": {
        "id": "CEuEYZgWy6hl"
      },
      "outputs": [],
      "source": [
        "def rgb_to_label(label):\n",
        "  label_segment = np.zeros(label.shape, dtype=np.uint8)\n",
        "  label_segment[np.all(label == class_water, axis=-1)] = 0\n",
        "  label_segment[np.all(label == class_land, axis=-1)] = 1\n",
        "  label_segment[np.all(label == class_road, axis=-1)] = 2\n",
        "  label_segment[np.all(label == class_building, axis=-1)] = 3\n",
        "  label_segment[np.all(label == class_vegetation, axis=-1)] = 4\n",
        "  label_segment[np.all(label == class_unlabeled, axis=-1)] = 5\n",
        "  #print(label_segment)\n",
        "  label_segment = label_segment[:,:,0]\n",
        "  #print(label_segment)\n",
        "  return label_segment"
      ]
    },
    {
      "cell_type": "code",
      "execution_count": null,
      "metadata": {
        "id": "wjlUe4OwxPua"
      },
      "outputs": [],
      "source": [
        "labels = []\n",
        "for i in range(mask_dataset.shape[0]):\n",
        "  label = rgb_to_label(mask_dataset[i])\n",
        "  labels.append(label)"
      ]
    },
    {
      "cell_type": "code",
      "execution_count": null,
      "metadata": {
        "colab": {
          "base_uri": "https://localhost:8080/"
        },
        "id": "KGpAkGQYzKKu",
        "outputId": "e79d221e-92ca-45cc-9b91-9b8e4d40c92f"
      },
      "outputs": [],
      "source": [
        "print(len(labels))"
      ]
    },
    {
      "cell_type": "code",
      "execution_count": null,
      "metadata": {
        "id": "WcyJI-uCzOZS"
      },
      "outputs": [],
      "source": [
        "labels = np.array(labels)"
      ]
    },
    {
      "cell_type": "code",
      "execution_count": null,
      "metadata": {
        "colab": {
          "base_uri": "https://localhost:8080/"
        },
        "id": "C0TjnIHPzTK3",
        "outputId": "34773e74-155c-40ca-c9dd-7a69f7680a9c"
      },
      "outputs": [],
      "source": [
        "labels[3]"
      ]
    },
    {
      "cell_type": "code",
      "execution_count": null,
      "metadata": {
        "id": "wWit1wMrzYce"
      },
      "outputs": [],
      "source": [
        "labels = np.expand_dims(labels, axis=3)"
      ]
    },
    {
      "cell_type": "code",
      "execution_count": null,
      "metadata": {
        "colab": {
          "base_uri": "https://localhost:8080/"
        },
        "id": "c6yZlp0x1HJn",
        "outputId": "dccd4abe-a8ac-4668-c466-328936f78df2"
      },
      "outputs": [],
      "source": [
        "labels[0]"
      ]
    },
    {
      "cell_type": "code",
      "execution_count": null,
      "metadata": {
        "colab": {
          "base_uri": "https://localhost:8080/"
        },
        "id": "b4TNgEl-1ISy",
        "outputId": "0611c077-7908-419f-cd0d-9d6d5e7745ba"
      },
      "outputs": [],
      "source": [
        "np.unique(labels)"
      ]
    },
    {
      "cell_type": "code",
      "execution_count": null,
      "metadata": {
        "colab": {
          "base_uri": "https://localhost:8080/"
        },
        "id": "3gd3gFwN1_Z4",
        "outputId": "fd1efd7e-ceda-4f0d-f31f-3b00769b7d16"
      },
      "outputs": [],
      "source": [
        "print(\"Total unique labels based on masks: \",format(np.unique(labels)))"
      ]
    },
    {
      "cell_type": "code",
      "execution_count": null,
      "metadata": {},
      "outputs": [],
      "source": [
        "labels.shape"
      ]
    },
    {
      "cell_type": "code",
      "execution_count": null,
      "metadata": {},
      "outputs": [],
      "source": [
        "mask_dataset.shape"
      ]
    },
    {
      "cell_type": "code",
      "execution_count": null,
      "metadata": {},
      "outputs": [],
      "source": [
        "image_dataset.shape"
      ]
    },
    {
      "cell_type": "code",
      "execution_count": null,
      "metadata": {
        "colab": {
          "base_uri": "https://localhost:8080/",
          "height": 423
        },
        "id": "1Do8kOxu2Rts",
        "outputId": "b3ca617e-1acc-4a95-de56-db3a9c890fed"
      },
      "outputs": [],
      "source": [
        "random_image_id = random.randint(0, len(image_dataset))\n",
        "\n",
        "plt.figure(figsize=(14,8))\n",
        "plt.subplot(121)\n",
        "plt.imshow(image_dataset[random_image_id])\n",
        "plt.subplot(122)\n",
        "#plt.imshow(mask_dataset[random_image_id])\n",
        "plt.imshow(labels[random_image_id][:,:,0])"
      ]
    },
    {
      "cell_type": "code",
      "execution_count": null,
      "metadata": {
        "colab": {
          "base_uri": "https://localhost:8080/"
        },
        "id": "osBSIGFf2ie1",
        "outputId": "2f1a37a0-90fd-47e5-d8f6-79c0263ffd8d"
      },
      "outputs": [],
      "source": [
        "labels[0][:,:,0]"
      ]
    },
    {
      "cell_type": "code",
      "execution_count": null,
      "metadata": {
        "id": "rrEYP0su3cXz"
      },
      "outputs": [],
      "source": [
        "total_classes = len(np.unique(labels))"
      ]
    },
    {
      "cell_type": "code",
      "execution_count": null,
      "metadata": {
        "colab": {
          "base_uri": "https://localhost:8080/"
        },
        "id": "BRl2xJTO3lKs",
        "outputId": "c5435864-d4d4-45dd-c629-964a2be65686"
      },
      "outputs": [],
      "source": [
        "total_classes"
      ]
    },
    {
      "cell_type": "code",
      "execution_count": null,
      "metadata": {
        "id": "0RjSrr6u3s5Y"
      },
      "outputs": [],
      "source": [
        "from tensorflow.keras.utils import to_categorical "
      ]
    },
    {
      "cell_type": "code",
      "execution_count": null,
      "metadata": {},
      "outputs": [],
      "source": [
        "labels.min()"
      ]
    },
    {
      "cell_type": "code",
      "execution_count": 2,
      "metadata": {},
      "outputs": [],
      "source": [
        "import glob\n",
        "\n",
        "filepaths_imgs = glob.glob('./dataset/processed_lai_npy/*.npy')\n",
        "filepaths_masks = glob.glob('./dataset/arbitrary_masks/*.npy')"
      ]
    },
    {
      "cell_type": "code",
      "execution_count": null,
      "metadata": {},
      "outputs": [],
      "source": [
        "len(filepaths_imgs[50:100])"
      ]
    },
    {
      "cell_type": "code",
      "execution_count": null,
      "metadata": {},
      "outputs": [],
      "source": [
        "datapath = './dataset/lai_ras/'\n",
        "\n",
        "import glob\n",
        "filepaths_imgs = glob.glob('./dataset/processed_lai_npy/*.npy')\n",
        "filepaths_masks = glob.glob('./dataset/arbitrary_masks/*.npy')\n",
        "\n",
        "\n",
        "\n",
        "filepaths_imgs.sort()\n",
        "filepaths_masks.sort()\n",
        "\n",
        "filepaths_imgs = filepaths_imgs[100:]\n",
        "ilepaths_imgs = filepaths_imgs[100:]\n",
        "\n",
        "\n",
        "'''for datapath_filename in filepaths_masks:\n",
        "    test = np.load(datapath_filename)\n",
        "    break'''\n",
        "\n",
        "image_dataset = []\n",
        "mask_dataset = []\n",
        "\n",
        "for datapath_filename_imgs, datapath_filename_msks  in zip(filepaths_imgs,filepaths_masks):\n",
        "\n",
        "    print(\"datapath_filename_imgs\", datapath_filename_imgs)\n",
        "    #print(\"datapath_filename_msks\", datapath_filename_msks)\n",
        "    #img_t = np.load(datapath_filename_imgs)\n",
        "    mask_t = np.load(datapath_filename_msks)\n",
        "    #image_dataset.append(img_t.reshape(-1, 10980, 10980))\n",
        "    mask_dataset.append(mask_t.reshape(-1, 10980, 10980))\n",
        "    \n",
        "#image_dataset = np.concatenate(image_dataset, axis=0)\n",
        "mask_dataset = np.concatenate(mask_dataset, axis=0)\n",
        "\n",
        "#print(\"image_dataset.shape\", image_dataset.shape)\n",
        "print(\"mask_dataset.shape\", mask_dataset.shape)"
      ]
    },
    {
      "cell_type": "code",
      "execution_count": null,
      "metadata": {},
      "outputs": [],
      "source": [
        "np.save('./dataset/saved_images_masks_npy/masks/masksChunk3.npy', mask_dataset) "
      ]
    },
    {
      "cell_type": "code",
      "execution_count": null,
      "metadata": {},
      "outputs": [],
      "source": [
        "test = np.load('./dataset/saved_images_masks_npy/masks/masksChunk3.npy')"
      ]
    },
    {
      "cell_type": "code",
      "execution_count": null,
      "metadata": {},
      "outputs": [],
      "source": [
        "test.shape"
      ]
    },
    {
      "cell_type": "code",
      "execution_count": null,
      "metadata": {},
      "outputs": [],
      "source": [
        "plt.imshow(test[0])"
      ]
    },
    {
      "cell_type": "code",
      "execution_count": null,
      "metadata": {},
      "outputs": [],
      "source": [
        "im1 = np.load('./dataset/processed_lai_npy/32UQV_2001_measure_0.npy')\n",
        "im2 = np.load('./dataset/processed_lai_npy/32UQV_2001_measure_1.npy')\n",
        "\n",
        "lab1 = np.load('./dataset/arbitrary_masks/32UQV_2001_mask_mesr_0.npy')\n",
        "lab2 = np.load('./dataset/arbitrary_masks/32UQV_2001_mask_mesr_1.npy')"
      ]
    },
    {
      "cell_type": "code",
      "execution_count": null,
      "metadata": {},
      "outputs": [],
      "source": [
        "image_dataset = np.concatenate((im1.reshape(1,10980,10980), im2.reshape(1,10980,10980)), axis=0)\n",
        "labels = np.concatenate((lab1.reshape(1,10980,10980), lab2.reshape(1,10980,10980)), axis=0)"
      ]
    },
    {
      "cell_type": "code",
      "execution_count": null,
      "metadata": {},
      "outputs": [],
      "source": [
        "print(image_dataset.shape)\n",
        "print(labels.shape)"
      ]
    },
    {
      "cell_type": "code",
      "execution_count": 3,
      "metadata": {},
      "outputs": [],
      "source": [
        "#image_dataset = np.load('./dataset/saved_images_masks_npy/images/imagesChunk3.npy')\n",
        "#labels = np.load('./dataset/saved_images_masks_npy/masks/masksChunk3.npy')\n",
        "\n",
        "image_dataset = np.load('./dataset/saved_images_masks_npy/images/testImgs.npy')\n",
        "labels = np.load('./dataset/saved_images_masks_npy/masks/testlables.npy')\n"
      ]
    },
    {
      "cell_type": "code",
      "execution_count": 5,
      "metadata": {},
      "outputs": [],
      "source": [
        "image_dataset = image_dataset[:10]\n",
        "labels = labels[:10]"
      ]
    },
    {
      "cell_type": "code",
      "execution_count": 6,
      "metadata": {},
      "outputs": [
        {
          "name": "stdout",
          "output_type": "stream",
          "text": [
            "record start 0\n",
            "record start 1\n",
            "record end 1\n"
          ]
        }
      ],
      "source": [
        "patch_len_x = 180\n",
        "patch_len_y = 180\n",
        "\n",
        "image_splits = []\n",
        "label_splits = []\n",
        "\n",
        "for record in range(image_dataset.shape[0]):\n",
        "  print(\"record start\", record)\n",
        "  for ind_i in range(int(image_dataset.shape[1]/patch_len_x)):\n",
        "    for ind_j in range(int(image_dataset.shape[2]/patch_len_y)):\n",
        "            selected_patch = image_dataset[record][(ind_i * patch_len_x):((ind_i + 1) * patch_len_x), (ind_j * patch_len_y):((ind_j + 1) * patch_len_y)]\n",
        "            selected_mask = labels[record][(ind_i * patch_len_x):((ind_i + 1) * patch_len_x), (ind_j * patch_len_y):((ind_j + 1) * patch_len_y)]\n",
        "            image_splits.append(selected_patch)\n",
        "            label_splits.append(selected_mask)\n",
        "\n",
        "image_splits = np.concatenate(image_splits, axis=0)\n",
        "label_splits = np.concatenate(label_splits, axis=0)\n",
        "\n",
        "print(\"record end\", record)\n"
      ]
    },
    {
      "cell_type": "code",
      "execution_count": 7,
      "metadata": {},
      "outputs": [],
      "source": [
        "image_splits = image_splits.reshape(-1, patch_len_x, patch_len_y)\n",
        "label_splits = label_splits.reshape(-1, patch_len_x, patch_len_y)"
      ]
    },
    {
      "cell_type": "code",
      "execution_count": 8,
      "metadata": {},
      "outputs": [],
      "source": [
        "label_splits = label_splits[:2]\n"
      ]
    },
    {
      "cell_type": "code",
      "execution_count": 9,
      "metadata": {},
      "outputs": [
        {
          "data": {
            "text/plain": [
              "(2, 180, 180)"
            ]
          },
          "execution_count": 9,
          "metadata": {},
          "output_type": "execute_result"
        }
      ],
      "source": [
        "label_splits.shape"
      ]
    },
    {
      "cell_type": "code",
      "execution_count": 10,
      "metadata": {},
      "outputs": [],
      "source": [
        "catg_labels = np.zeros([label_splits.shape[0], label_splits.shape[1], label_splits.shape[2], 10])"
      ]
    },
    {
      "cell_type": "code",
      "execution_count": null,
      "metadata": {},
      "outputs": [],
      "source": []
    },
    {
      "cell_type": "code",
      "execution_count": null,
      "metadata": {},
      "outputs": [],
      "source": []
    },
    {
      "cell_type": "code",
      "execution_count": 15,
      "metadata": {},
      "outputs": [
        {
          "data": {
            "text/plain": [
              "(2, 180, 180, 10)"
            ]
          },
          "execution_count": 15,
          "metadata": {},
          "output_type": "execute_result"
        }
      ],
      "source": [
        "catg_labels.shape"
      ]
    },
    {
      "cell_type": "code",
      "execution_count": 12,
      "metadata": {},
      "outputs": [],
      "source": [
        "catg_labels[:,:,:, label_splits[:,:,:]] = 1"
      ]
    },
    {
      "cell_type": "code",
      "execution_count": null,
      "metadata": {},
      "outputs": [],
      "source": [
        "plt.imshow(image_splits[5])"
      ]
    },
    {
      "cell_type": "code",
      "execution_count": null,
      "metadata": {},
      "outputs": [],
      "source": [
        "segmented_image = label_splits[6000]\n",
        "\n",
        "color_map = {0: [255, 0, 0],        # Red\n",
        "             1: [0, 255, 0],        # Green\n",
        "             2: [0, 0, 255],        # Blue\n",
        "             3: [255, 255, 0],      # Yellow\n",
        "             4: [255, 165, 0],      # Orange\n",
        "             5: [255, 0, 255],      # Magenta\n",
        "             6: [0, 255, 255],      # Cyan\n",
        "             7: [128, 0, 128],      # Violet\n",
        "             8: [128, 128, 0],      # Olive\n",
        "             9: [0, 128, 0],        # Dark Green\n",
        "             10: [128, 0, 0]}       # Maroon\n",
        "\n",
        "\n",
        "# Create color plot\n",
        "colored_image = np.zeros(segmented_image.shape + (3,), dtype=np.uint8)\n",
        "for i in range(segmented_image.shape[0]):\n",
        "    for j in range(segmented_image.shape[1]):\n",
        "        segment_id = segmented_image[i, j]\n",
        "        colored_image[i, j] = color_map[segment_id]\n",
        "\n",
        "# Display the color plot\n",
        "plt.imshow(colored_image)\n",
        "plt.axis('off')\n",
        "plt.show()"
      ]
    },
    {
      "cell_type": "code",
      "execution_count": null,
      "metadata": {},
      "outputs": [],
      "source": [
        "labels = label_splits\n"
      ]
    },
    {
      "cell_type": "code",
      "execution_count": null,
      "metadata": {
        "id": "Uj5Cg0Y030g7"
      },
      "outputs": [],
      "source": [
        "total_classes = 10\n",
        "\n",
        "labels_categorical_dataset = to_categorical(labels, num_classes=total_classes)"
      ]
    },
    {
      "cell_type": "code",
      "execution_count": null,
      "metadata": {
        "colab": {
          "base_uri": "https://localhost:8080/"
        },
        "id": "3jehRZB34DxM",
        "outputId": "6c442d5e-5fc4-445e-ffcb-4fd95cae93da"
      },
      "outputs": [],
      "source": [
        "labels_categorical_dataset.shape"
      ]
    },
    {
      "cell_type": "code",
      "execution_count": null,
      "metadata": {
        "colab": {
          "base_uri": "https://localhost:8080/"
        },
        "id": "c0oZ2yE54RCA",
        "outputId": "a9262a3e-e17b-444e-d344-c748aa7dc28d"
      },
      "outputs": [],
      "source": []
    },
    {
      "cell_type": "code",
      "execution_count": null,
      "metadata": {
        "id": "wYRebsy82rYZ"
      },
      "outputs": [],
      "source": [
        "master_trianing_dataset = image_dataset"
      ]
    },
    {
      "cell_type": "code",
      "execution_count": null,
      "metadata": {
        "id": "b6yTM05m3DfV"
      },
      "outputs": [],
      "source": [
        "from sklearn.model_selection import train_test_split"
      ]
    },
    {
      "cell_type": "code",
      "execution_count": null,
      "metadata": {},
      "outputs": [],
      "source": [
        "labels_categorical_dataset[0,0,0,:]"
      ]
    },
    {
      "cell_type": "code",
      "execution_count": null,
      "metadata": {
        "id": "lqRemXmg3LDL"
      },
      "outputs": [],
      "source": [
        "X_train, X_test, y_train, y_test = train_test_split(master_trianing_dataset, labels_categorical_dataset, test_size=0.15, random_state=100)"
      ]
    },
    {
      "cell_type": "code",
      "execution_count": null,
      "metadata": {
        "colab": {
          "base_uri": "https://localhost:8080/"
        },
        "id": "oUUed9Yl4ham",
        "outputId": "1c6e0163-01e0-463e-d1b7-925913237c37"
      },
      "outputs": [],
      "source": [
        "print(X_train.shape)\n",
        "print(X_test.shape)\n",
        "print(y_train.shape)\n",
        "print(y_test.shape)"
      ]
    },
    {
      "cell_type": "code",
      "execution_count": null,
      "metadata": {
        "id": "nYpugjAO5Hnh"
      },
      "outputs": [],
      "source": [
        "image_height = X_train.shape[1]\n",
        "image_width = X_train.shape[2]\n",
        "image_channels = X_train.shape[3]\n",
        "total_classes = y_train.shape[3]"
      ]
    },
    {
      "cell_type": "code",
      "execution_count": null,
      "metadata": {
        "colab": {
          "base_uri": "https://localhost:8080/"
        },
        "id": "mL1jvfYf5Up5",
        "outputId": "1d33445e-5142-4679-985b-abfc1c25d8e7"
      },
      "outputs": [],
      "source": [
        "print(image_height)\n",
        "print(image_width)\n",
        "print(image_channels)\n",
        "print(total_classes)"
      ]
    },
    {
      "cell_type": "code",
      "execution_count": null,
      "metadata": {
        "id": "981Bvtm85Yfu"
      },
      "outputs": [],
      "source": []
    },
    {
      "attachments": {},
      "cell_type": "markdown",
      "metadata": {},
      "source": [
        "# Deep learning part"
      ]
    },
    {
      "cell_type": "code",
      "execution_count": null,
      "metadata": {},
      "outputs": [],
      "source": [
        "from keras.models import Model\n",
        "from keras.layers import Input, Conv2D, MaxPooling2D, UpSampling2D, Conv2DTranspose\n",
        "from keras.layers import concatenate, BatchNormalization, Dropout, Lambda\n",
        "     "
      ]
    },
    {
      "cell_type": "code",
      "execution_count": null,
      "metadata": {},
      "outputs": [],
      "source": [
        "from keras import backend as K\n"
      ]
    },
    {
      "cell_type": "code",
      "execution_count": null,
      "metadata": {},
      "outputs": [],
      "source": [
        "def jaccard_coef(y_true, y_pred):\n",
        "  y_true_flatten = K.flatten(y_true)\n",
        "  y_pred_flatten = K.flatten(y_pred)\n",
        "  intersection = K.sum(y_true_flatten * y_pred_flatten)\n",
        "  final_coef_value = (intersection + 1.0) / (K.sum(y_true_flatten) + K.sum(y_pred_flatten) - intersection + 1.0)\n",
        "  return final_coef_value\n"
      ]
    },
    {
      "cell_type": "code",
      "execution_count": null,
      "metadata": {},
      "outputs": [],
      "source": [
        "def multi_unet_model(n_classes=5, image_height=256, image_width=256, image_channels=1):\n",
        "\n",
        "  inputs = Input((image_height, image_width, image_channels))\n",
        "\n",
        "  source_input = inputs\n",
        "\n",
        "  c1 = Conv2D(16, (3,3), activation=\"relu\", kernel_initializer=\"he_normal\", padding=\"same\")(source_input)\n",
        "  c1 = Dropout(0.2)(c1)\n",
        "  c1 = Conv2D(16, (3,3), activation=\"relu\", kernel_initializer=\"he_normal\", padding=\"same\")(c1)\n",
        "  p1 = MaxPooling2D((2,2))(c1)\n",
        "\n",
        "  c2 = Conv2D(32, (3,3), activation=\"relu\", kernel_initializer=\"he_normal\", padding=\"same\")(p1)\n",
        "  c2 = Dropout(0.2)(c2)\n",
        "  c2 = Conv2D(32, (3,3), activation=\"relu\", kernel_initializer=\"he_normal\", padding=\"same\")(c2)\n",
        "  p2 = MaxPooling2D((2,2))(c2)\n",
        "\n",
        "  c3 = Conv2D(64, (3,3), activation=\"relu\", kernel_initializer=\"he_normal\", padding=\"same\")(p2)\n",
        "  c3 = Dropout(0.2)(c3)\n",
        "  c3 = Conv2D(64, (3,3), activation=\"relu\", kernel_initializer=\"he_normal\", padding=\"same\")(c3)\n",
        "  p3 = MaxPooling2D((2,2))(c3)\n",
        "\n",
        "  c4 = Conv2D(128, (3,3), activation=\"relu\", kernel_initializer=\"he_normal\", padding=\"same\")(p3)\n",
        "  c4 = Dropout(0.2)(c4)\n",
        "  c4 = Conv2D(128, (3,3), activation=\"relu\", kernel_initializer=\"he_normal\", padding=\"same\")(c4)\n",
        "  p4 = MaxPooling2D((2,2))(c4)\n",
        "\n",
        "  c5 = Conv2D(256, (3,3), activation=\"relu\", kernel_initializer=\"he_normal\", padding=\"same\")(p4)\n",
        "  c5 = Dropout(0.2)(c5)\n",
        "  c5 = Conv2D(256, (3,3), activation=\"relu\", kernel_initializer=\"he_normal\", padding=\"same\")(c5)\n",
        "\n",
        "  u6 = Conv2DTranspose(128, (2,2), strides=(2,2), padding=\"same\")(c5)\n",
        "  u6 = concatenate([u6, c4])\n",
        "  c6 = Conv2D(128, (3,3), activation=\"relu\", kernel_initializer=\"he_normal\", padding=\"same\")(u6)\n",
        "  c6 = Dropout(0.2)(c6)\n",
        "  c6 = Conv2D(128, (3,3), activation=\"relu\", kernel_initializer=\"he_normal\", padding=\"same\")(c6)\n",
        "\n",
        "  u7 = Conv2DTranspose(64, (2,2), strides=(2,2), padding=\"same\")(c6)\n",
        "  u7 = concatenate([u7, c3])\n",
        "  c7 = Conv2D(64, (3,3), activation=\"relu\", kernel_initializer=\"he_normal\", padding=\"same\")(u7)\n",
        "  c7 = Dropout(0.2)(c7)\n",
        "  c7 = Conv2D(64, (3,3), activation=\"relu\", kernel_initializer=\"he_normal\", padding=\"same\")(c7)\n",
        "\n",
        "  u8 = Conv2DTranspose(32, (2,2), strides=(2,2), padding=\"same\")(c7)\n",
        "  u8 = concatenate([u8, c2])\n",
        "  c8 = Conv2D(32, (3,3), activation=\"relu\", kernel_initializer=\"he_normal\", padding=\"same\")(u8)\n",
        "  c8 = Dropout(0.2)(c8)\n",
        "  c8 = Conv2D(32, (3,3), activation=\"relu\", kernel_initializer=\"he_normal\", padding=\"same\")(c8)\n",
        "\n",
        "  u9 = Conv2DTranspose(16, (2,2), strides=(2,2), padding=\"same\")(c8)\n",
        "  u9 = concatenate([u9, c1], axis=3)\n",
        "  c9 = Conv2D(16, (3,3), activation=\"relu\", kernel_initializer=\"he_normal\", padding=\"same\")(u9)\n",
        "  c9 = Dropout(0.2)(c9)\n",
        "  c9 = Conv2D(16, (3,3), activation=\"relu\", kernel_initializer=\"he_normal\", padding=\"same\")(c9)\n",
        "\n",
        "  outputs = Conv2D(n_classes, (1,1), activation=\"softmax\")(c9)\n",
        "\n",
        "  model = Model(inputs=[inputs], outputs=[outputs])\n",
        "  return model"
      ]
    },
    {
      "cell_type": "code",
      "execution_count": null,
      "metadata": {},
      "outputs": [],
      "source": [
        "metrics = [\"accuracy\", jaccard_coef]\n"
      ]
    },
    {
      "cell_type": "code",
      "execution_count": null,
      "metadata": {},
      "outputs": [],
      "source": [
        "\n",
        "print(image_height)\n",
        "print(image_width)\n",
        "print(image_channels)\n",
        "print(total_classes)"
      ]
    },
    {
      "cell_type": "code",
      "execution_count": null,
      "metadata": {},
      "outputs": [],
      "source": [
        "def get_deep_learning_model():\n",
        "  return multi_unet_model(n_classes=total_classes, \n",
        "                          image_height=image_height, \n",
        "                          image_width=image_width, \n",
        "                          image_channels=image_channels)"
      ]
    },
    {
      "cell_type": "code",
      "execution_count": null,
      "metadata": {},
      "outputs": [],
      "source": [
        "model = get_deep_learning_model()\n"
      ]
    },
    {
      "cell_type": "code",
      "execution_count": null,
      "metadata": {},
      "outputs": [],
      "source": [
        "# Uncomment below to see the model architecture\n",
        "# model.get_config()"
      ]
    },
    {
      "attachments": {},
      "cell_type": "markdown",
      "metadata": {},
      "source": [
        "# Generating Loss function"
      ]
    },
    {
      "cell_type": "code",
      "execution_count": null,
      "metadata": {},
      "outputs": [],
      "source": [
        "weights = [0.1666, 0.1666, 0.1666, 0.1666, 0.1666, 0.1666]\n"
      ]
    },
    {
      "cell_type": "code",
      "execution_count": null,
      "metadata": {},
      "outputs": [],
      "source": [
        "#import segmentation_models as sm\n"
      ]
    },
    {
      "cell_type": "code",
      "execution_count": null,
      "metadata": {},
      "outputs": [],
      "source": [
        "import os\n",
        "os.environ[\"SM_FRAMEWORK\"] = \"tf.keras\"\n",
        "\n",
        "from tensorflow import keras\n",
        "import segmentation_models as sm\n"
      ]
    },
    {
      "cell_type": "code",
      "execution_count": null,
      "metadata": {},
      "outputs": [],
      "source": [
        "dice_loss = sm.losses.DiceLoss(class_weights = weights)\n"
      ]
    },
    {
      "cell_type": "code",
      "execution_count": null,
      "metadata": {},
      "outputs": [],
      "source": [
        "focal_loss = sm.losses.CategoricalFocalLoss()\n"
      ]
    },
    {
      "cell_type": "code",
      "execution_count": null,
      "metadata": {},
      "outputs": [],
      "source": [
        "'''dice_loss = sm.losses.DiceLoss(class_weights = weights)\n",
        "dice_loss = sm.losses.DiceLoss(class_weights = weights)\n",
        "total_loss = dice_loss + (1 * focal_loss)'''\n"
      ]
    },
    {
      "cell_type": "code",
      "execution_count": null,
      "metadata": {},
      "outputs": [],
      "source": [
        "dice_loss = sm.losses.DiceLoss(class_weights = weights)\n"
      ]
    },
    {
      "cell_type": "code",
      "execution_count": null,
      "metadata": {},
      "outputs": [],
      "source": [
        "total_loss = dice_loss + (1 * focal_loss)\n"
      ]
    },
    {
      "cell_type": "code",
      "execution_count": null,
      "metadata": {},
      "outputs": [],
      "source": [
        "import tensorflow as tf\n"
      ]
    },
    {
      "cell_type": "code",
      "execution_count": null,
      "metadata": {},
      "outputs": [],
      "source": [
        "tf.keras.backend.clear_session()\n"
      ]
    },
    {
      "cell_type": "code",
      "execution_count": null,
      "metadata": {},
      "outputs": [],
      "source": [
        "model.compile(optimizer=\"adam\", loss=total_loss, metrics=metrics)\n"
      ]
    },
    {
      "cell_type": "code",
      "execution_count": null,
      "metadata": {},
      "outputs": [],
      "source": [
        "model.summary()\n"
      ]
    },
    {
      "cell_type": "code",
      "execution_count": null,
      "metadata": {},
      "outputs": [],
      "source": [
        "# To visualize the model\n",
        "from keras.utils.vis_utils import plot_model"
      ]
    },
    {
      "cell_type": "code",
      "execution_count": null,
      "metadata": {},
      "outputs": [],
      "source": [
        "plot_model(model, to_file='satellite_model_plot.png', show_shapes=True, show_layer_names=True)"
      ]
    },
    {
      "cell_type": "code",
      "execution_count": null,
      "metadata": {},
      "outputs": [],
      "source": [
        "import keras\n",
        "from IPython.display import clear_output\n",
        "%matplotlib inline"
      ]
    },
    {
      "cell_type": "code",
      "execution_count": null,
      "metadata": {},
      "outputs": [],
      "source": [
        "class PlotLoss(keras.callbacks.Callback):\n",
        "    def on_train_begin(self, logs={}):\n",
        "        self.i = 0\n",
        "        self.x = []\n",
        "        self.losses = []\n",
        "        self.val_losses = []\n",
        "        self.jaccard_coef = []\n",
        "        self.val_jaccard_coef = []\n",
        "        self.fig = plt.figure()\n",
        "        self.logs = []\n",
        "    \n",
        "    def on_epoch_end(self, epoch, logs={}):\n",
        "        self.logs.append(logs)\n",
        "        self.x.append(self.i)\n",
        "        #self.losses.append(logs.get(\"loss\"))\n",
        "        #self.val_losses.append(logs.get(\"val_loss\"))\n",
        "\n",
        "        self.jaccard_coef.append(logs.get(\"jaccard_coef\"))\n",
        "        self.val_jaccard_coef.append(logs.get(\"val_jaccard_coef\"))\n",
        "\n",
        "        self.i += 1\n",
        "\n",
        "        clear_output(wait=True)\n",
        "        #plt.plot(self.x, self.losses, label=\"loss\")\n",
        "        #plt.plot(self.x, self.val_losses, label=\"val_loss\")\n",
        "\n",
        "        plt.plot(self.x, self.jaccard_coef, label=\"jaccard_coef\")\n",
        "        plt.plot(self.x, self.val_jaccard_coef, label=\"val_jaccard_coef\")\n",
        "\n",
        "        plt.legend()\n",
        "        plt.show();\n",
        "    \n",
        "plot_loss = PlotLoss()"
      ]
    },
    {
      "cell_type": "code",
      "execution_count": null,
      "metadata": {},
      "outputs": [],
      "source": [
        "# To get two plots\n",
        "class PlotLossEx(keras.callbacks.Callback):\n",
        "    def on_train_begin(self, logs={}):\n",
        "        self.i = 0\n",
        "        self.x = []\n",
        "        self.losses = []\n",
        "        self.val_losses = []\n",
        "        self.jaccard_coef = []\n",
        "        self.val_jaccard_coef = []\n",
        "        self.fig = plt.figure()\n",
        "        self.logs = []\n",
        "    \n",
        "    def on_epoch_end(self, epoch, logs={}):\n",
        "        self.logs.append(logs)\n",
        "        self.x.append(self.i)\n",
        "        self.losses.append(logs.get(\"loss\"))\n",
        "        self.val_losses.append(logs.get(\"val_loss\"))\n",
        "\n",
        "        self.jaccard_coef.append(logs.get(\"jaccard_coef\"))\n",
        "        self.val_jaccard_coef.append(logs.get(\"val_jaccard_coef\"))\n",
        "\n",
        "        self.i += 1\n",
        "\n",
        "        plt.figure(figsize=(14, 8))\n",
        "        f, (graph1, graph2) = plt.subplots(1, 2, sharex=True)\n",
        "\n",
        "        clear_output(wait=True)\n",
        "        \n",
        "        graph1.set_yscale('log')\n",
        "        graph1.plot(self.x, self.losses, label=\"loss\")\n",
        "        graph1.plot(self.x, self.val_losses, label=\"val_loss\")\n",
        "        graph1.legend()\n",
        "\n",
        "        graph2.set_yscale('log')\n",
        "        graph2.plot(self.x, self.jaccard_coef, label=\"jaccard_coef\")\n",
        "        graph2.plot(self.x, self.val_jaccard_coef, label=\"val_jaccard_coef\")\n",
        "\n",
        "        graph2.legend()\n",
        "        plt.show();\n",
        "    \n",
        "plot_loss = PlotLossEx()"
      ]
    },
    {
      "cell_type": "code",
      "execution_count": null,
      "metadata": {},
      "outputs": [],
      "source": [
        "\n",
        "#Two graph\n",
        "model_history = model.fit(X_train, y_train,\n",
        "                          batch_size=16,\n",
        "                          verbose=1,\n",
        "                          epochs=10,\n",
        "                          validation_data=(X_test, y_test),\n",
        "                          callbacks=[plot_loss],\n",
        "                          shuffle=False)"
      ]
    },
    {
      "cell_type": "code",
      "execution_count": null,
      "metadata": {},
      "outputs": [],
      "source": [
        "\n",
        "#One graph\n",
        "model_history = model.fit(X_train, y_train,\n",
        "                          batch_size=16,\n",
        "                          verbose=1,\n",
        "                          epochs=10,\n",
        "                          validation_data=(X_test, y_test),\n",
        "                          callbacks=[plot_loss],\n",
        "                          shuffle=False)"
      ]
    },
    {
      "cell_type": "code",
      "execution_count": null,
      "metadata": {},
      "outputs": [],
      "source": [
        "history_a = model_history\n"
      ]
    },
    {
      "cell_type": "code",
      "execution_count": null,
      "metadata": {},
      "outputs": [],
      "source": [
        "history_a.history"
      ]
    },
    {
      "cell_type": "code",
      "execution_count": null,
      "metadata": {},
      "outputs": [],
      "source": [
        "loss = history_a.history['loss']\n",
        "val_loss = history_a.history['val_loss']\n",
        "epochs = range(1, len(loss) + 1)\n",
        "plt.plot(epochs, loss, 'y', label='Training loss')\n",
        "plt.plot(epochs, val_loss, 'r', label='Validation loss')\n",
        "plt.title('Training and validation loss')   \n",
        "plt.xlabel('Epochs')\n",
        "plt.ylabel('Loss Value')\n",
        "plt.legend()\n",
        "plt.show()\n"
      ]
    },
    {
      "cell_type": "code",
      "execution_count": 1,
      "metadata": {},
      "outputs": [
        {
          "name": "stderr",
          "output_type": "stream",
          "text": [
            "/home/luser/anaconda3/envs/stelar/lib/python3.9/site-packages/tqdm/auto.py:21: TqdmWarning: IProgress not found. Please update jupyter and ipywidgets. See https://ipywidgets.readthedocs.io/en/stable/user_install.html\n",
            "  from .autonotebook import tqdm as notebook_tqdm\n"
          ]
        }
      ],
      "source": [
        "import torch\n",
        "import torch.nn.functional as F\n",
        "\n",
        "def pad_to(x, stride):\n",
        "    h, w = x.shape[-2:]\n",
        "\n",
        "    if h % stride > 0:\n",
        "        new_h = h + stride - h % stride\n",
        "    else:\n",
        "        new_h = h\n",
        "    if w % stride > 0:\n",
        "        new_w = w + stride - w % stride\n",
        "    else:\n",
        "        new_w = w\n",
        "    lh, uh = int((new_h-h) / 2), int(new_h-h) - int((new_h-h) / 2)\n",
        "    lw, uw = int((new_w-w) / 2), int(new_w-w) - int((new_w-w) / 2)\n",
        "    pads = (lw, uw, lh, uh)\n",
        "\n",
        "    # zero-padding by default.\n",
        "    # See others at https://pytorch.org/docs/stable/nn.functional.html#torch.nn.functional.pad\n",
        "    out = F.pad(x, pads, \"constant\", 0)\n",
        "\n",
        "    return out, pads\n",
        "\n",
        "def unpad(x, pad):\n",
        "    if pad[2]+pad[3] > 0:\n",
        "        x = x[:,:,pad[2]:-pad[3],:]\n",
        "    if pad[0]+pad[1] > 0:\n",
        "        x = x[:,:,:,pad[0]:-pad[1]]\n",
        "    return x"
      ]
    },
    {
      "cell_type": "code",
      "execution_count": 2,
      "metadata": {},
      "outputs": [
        {
          "name": "stdout",
          "output_type": "stream",
          "text": [
            "Original:  torch.Size([4, 3, 1080, 1920])\n",
            "Padded:  torch.Size([4, 3, 1088, 1920])\n",
            "Recovered:  torch.Size([4, 3, 1080, 1920])\n"
          ]
        }
      ],
      "source": [
        "x = torch.zeros(4, 3, 1080, 1920) # Raw data\n",
        "x_pad, pads = pad_to(x, 16) # Padded data, feed this to your network \n",
        "x_unpad = unpad(x_pad, pads) # Un-pad the network output to recover the original shape\n",
        "\n",
        "print('Original: ', x.shape)\n",
        "print('Padded: ', x_pad.shape)\n",
        "print('Recovered: ', x_unpad.shape)"
      ]
    },
    {
      "cell_type": "code",
      "execution_count": null,
      "metadata": {},
      "outputs": [],
      "source": [
        "jaccard_coef = history_a.history['jaccard_coef']\n",
        "val_jaccard_coef = history_a.history['val_jaccard_coef']\n",
        "epochs = range(1, len(jaccard_coef) + 1)\n",
        "\n",
        "plt.plot(epochs, jaccard_coef, 'y', label='Training IoU')\n",
        "plt.plot(epochs, val_jaccard_coef, 'r', label='Validation IoU')\n",
        "plt.title('Training and validation IoU')\n",
        "plt.xlabel('Epochs')\n",
        "plt.ylabel('IoU Value')\n",
        "plt.legend()\n",
        "plt.show()\n"
      ]
    },
    {
      "cell_type": "code",
      "execution_count": null,
      "metadata": {},
      "outputs": [],
      "source": [
        "model_history.params"
      ]
    },
    {
      "cell_type": "code",
      "execution_count": null,
      "metadata": {},
      "outputs": [],
      "source": [
        "y_pred = model.predict(X_test)"
      ]
    },
    {
      "cell_type": "code",
      "execution_count": null,
      "metadata": {},
      "outputs": [],
      "source": [
        "len(y_pred)"
      ]
    },
    {
      "cell_type": "code",
      "execution_count": null,
      "metadata": {},
      "outputs": [],
      "source": [
        "y_pred.shape"
      ]
    },
    {
      "cell_type": "code",
      "execution_count": null,
      "metadata": {},
      "outputs": [],
      "source": [
        "y_pred_argmax = np.argmax(y_pred, axis=3)"
      ]
    },
    {
      "cell_type": "code",
      "execution_count": null,
      "metadata": {},
      "outputs": [],
      "source": [
        "len(y_pred_argmax)"
      ]
    },
    {
      "cell_type": "code",
      "execution_count": null,
      "metadata": {},
      "outputs": [],
      "source": [
        "y_pred_argmax"
      ]
    },
    {
      "cell_type": "code",
      "execution_count": null,
      "metadata": {},
      "outputs": [],
      "source": [
        "y_test_argmax = np.argmax(y_test, axis=3)"
      ]
    },
    {
      "cell_type": "code",
      "execution_count": null,
      "metadata": {},
      "outputs": [],
      "source": [
        "y_test_argmax"
      ]
    },
    {
      "cell_type": "code",
      "execution_count": null,
      "metadata": {},
      "outputs": [],
      "source": []
    },
    {
      "attachments": {},
      "cell_type": "markdown",
      "metadata": {},
      "source": [
        "# Comparing prediction results"
      ]
    },
    {
      "attachments": {},
      "cell_type": "markdown",
      "metadata": {},
      "source": [
        "##### using test images, using mask images and predicted result images"
      ]
    },
    {
      "cell_type": "code",
      "execution_count": null,
      "metadata": {},
      "outputs": [],
      "source": [
        "test_image_number = random.randint(0, len(X_test)-1)\n",
        "\n",
        "test_image = X_test[test_image_number]\n",
        "groud_truth_image = y_test_argmax[test_image_number]\n",
        "\n",
        "test_image_input = np.expand_dims(test_image, axis=0)\n",
        "\n",
        "prediction = (model.predict(test_image_input))\n",
        "predicted_image = np.argmax(prediction, axis=-1)\n",
        "predicted_image = predicted_image[0,:,:]\n"
      ]
    },
    {
      "cell_type": "code",
      "execution_count": null,
      "metadata": {},
      "outputs": [],
      "source": [
        "# Put all the 3 images together and display\n",
        "plt.figure(figsize=(14, 8))\n",
        "plt.subplot(231)\n",
        "plt.title('Original Image')\n",
        "plt.imshow(test_image)\n",
        "plt.subplot(232)\n",
        "plt.title('Original Masked image')\n",
        "plt.imshow(groud_truth_image)\n",
        "plt.subplot(233)\n",
        "plt.title('Predicted image')\n",
        "plt.imshow(predicted_image)"
      ]
    },
    {
      "cell_type": "code",
      "execution_count": null,
      "metadata": {},
      "outputs": [],
      "source": [
        "model.save('./saved_model/satellite_image_segmentation.h5')"
      ]
    },
    {
      "cell_type": "code",
      "execution_count": null,
      "metadata": {},
      "outputs": [],
      "source": [
        "import keras.backend as K\n",
        "import segmentation_models as sm\n",
        "\n",
        "def dice_loss_plus_1focal_loss(y_true, y_pred):\n",
        "    # Compute dice loss using the DiceLoss class from segmentation_models\n",
        "    dice_loss = sm.losses.DiceLoss(class_weights=weights)(y_true, y_pred)\n",
        "\n",
        "    # Compute focal loss using the CategoricalFocalLoss class from segmentation_models\n",
        "    focal_loss = sm.losses.CategoricalFocalLoss()(y_true, y_pred)\n",
        "\n",
        "    # Combine the dice loss and focal loss\n",
        "    total_loss = dice_loss + (1 * focal_loss)\n",
        "\n",
        "    return total_loss\n"
      ]
    },
    {
      "cell_type": "code",
      "execution_count": null,
      "metadata": {},
      "outputs": [],
      "source": [
        "import keras\n",
        "from keras import models\n",
        "\n",
        "# Register the custom loss function\n",
        "keras.losses.dice_loss_plus_1focal_loss = dice_loss_plus_1focal_loss\n",
        "keras.metrics.jaccard_coef = jaccard_coef\n",
        "# Load the saved model\n",
        "model = models.load_model('./saved_model/satellite_image_segmentation.h5')\n"
      ]
    },
    {
      "cell_type": "code",
      "execution_count": null,
      "metadata": {},
      "outputs": [],
      "source": [
        "# load the saved model\n",
        "\n",
        "from keras import models\n",
        "\n",
        "model = models.load_model('./saved_model/satellite_image_segmentation.h5')\n"
      ]
    },
    {
      "cell_type": "code",
      "execution_count": null,
      "metadata": {},
      "outputs": [],
      "source": [
        "ls -lah"
      ]
    },
    {
      "cell_type": "code",
      "execution_count": null,
      "metadata": {},
      "outputs": [],
      "source": []
    }
  ],
  "metadata": {
    "colab": {
      "authorship_tag": "ABX9TyP85wBGFS6fEjMwUnsawKI/",
      "include_colab_link": true,
      "mount_file_id": "1UxXye1eVYik5DLm1YZ6cu25TBvMOlEYt",
      "provenance": []
    },
    "kernelspec": {
      "display_name": "Python 3",
      "name": "python3"
    },
    "language_info": {
      "codemirror_mode": {
        "name": "ipython",
        "version": 3
      },
      "file_extension": ".py",
      "mimetype": "text/x-python",
      "name": "python",
      "nbconvert_exporter": "python",
      "pygments_lexer": "ipython3",
      "version": "3.9.16"
    }
  },
  "nbformat": 4,
  "nbformat_minor": 0
}
