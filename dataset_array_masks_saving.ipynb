{
  "cells": [
    {
      "attachments": {},
      "cell_type": "markdown",
      "metadata": {
        "colab_type": "text",
        "id": "view-in-github"
      },
      "source": [
        "<a href=\"https://colab.research.google.com/github/prodramp/DeepWorks/blob/main/DL-SatelliteImagery/Satellite_Imagery_Segmentation.ipynb\" target=\"_parent\"><img src=\"https://colab.research.google.com/assets/colab-badge.svg\" alt=\"Open In Colab\"/></a>"
      ]
    },
    {
      "cell_type": "code",
      "execution_count": 1,
      "metadata": {
        "id": "ZcQm4iMffm6p"
      },
      "outputs": [],
      "source": [
        "import os\n",
        "import cv2\n",
        "from PIL import Image \n",
        "import numpy as np \n",
        "from patchify import patchify\n",
        "from sklearn.preprocessing import MinMaxScaler, StandardScaler\n",
        "\n",
        "from matplotlib import pyplot as plt\n",
        "import random"
      ]
    },
    {
      "cell_type": "code",
      "execution_count": null,
      "metadata": {},
      "outputs": [],
      "source": [
        "datapath = './dataset/lai_ras/'\n",
        "\n",
        "import glob\n",
        "filepaths_imgs = glob.glob('./dataset/processed_lai_npy/*.npy')\n",
        "filepaths_masks = glob.glob('./dataset/arbitrary_masks/*.npy')\n",
        "\n",
        "\n",
        "\n",
        "filepaths_imgs.sort()\n",
        "filepaths_masks.sort()\n",
        "\n",
        "filepaths_imgs = filepaths_imgs[100:]\n",
        "ilepaths_imgs = filepaths_imgs[100:]\n",
        "\n",
        "\n",
        "'''for datapath_filename in filepaths_masks:\n",
        "    test = np.load(datapath_filename)\n",
        "    break'''\n",
        "\n",
        "image_dataset = []\n",
        "mask_dataset = []\n",
        "\n",
        "for datapath_filename_imgs, datapath_filename_msks  in zip(filepaths_imgs,filepaths_masks):\n",
        "\n",
        "    print(\"datapath_filename_imgs\", datapath_filename_imgs)\n",
        "    #print(\"datapath_filename_msks\", datapath_filename_msks)\n",
        "    #img_t = np.load(datapath_filename_imgs)\n",
        "    mask_t = np.load(datapath_filename_msks)\n",
        "    #image_dataset.append(img_t.reshape(-1, 10980, 10980))\n",
        "    mask_dataset.append(mask_t.reshape(-1, 10980, 10980))\n",
        "    \n",
        "#image_dataset = np.concatenate(image_dataset, axis=0)\n",
        "mask_dataset = np.concatenate(mask_dataset, axis=0)\n",
        "\n",
        "#print(\"image_dataset.shape\", image_dataset.shape)\n",
        "print(\"mask_dataset.shape\", mask_dataset.shape)"
      ]
    },
    {
      "cell_type": "code",
      "execution_count": null,
      "metadata": {},
      "outputs": [],
      "source": [
        "np.save('./dataset/saved_images_masks_npy/masks/masksChunk3.npy', mask_dataset) "
      ]
    },
    {
      "cell_type": "code",
      "execution_count": null,
      "metadata": {},
      "outputs": [],
      "source": [
        "test = np.load('./dataset/saved_images_masks_npy/masks/masksChunk3.npy')"
      ]
    },
    {
      "cell_type": "code",
      "execution_count": null,
      "metadata": {},
      "outputs": [],
      "source": [
        "test.shape"
      ]
    },
    {
      "cell_type": "code",
      "execution_count": null,
      "metadata": {},
      "outputs": [],
      "source": [
        "plt.imshow(test[0])"
      ]
    }
  ],
  "metadata": {
    "colab": {
      "authorship_tag": "ABX9TyP85wBGFS6fEjMwUnsawKI/",
      "include_colab_link": true,
      "mount_file_id": "1UxXye1eVYik5DLm1YZ6cu25TBvMOlEYt",
      "provenance": []
    },
    "kernelspec": {
      "display_name": "Python 3",
      "name": "python3"
    },
    "language_info": {
      "codemirror_mode": {
        "name": "ipython",
        "version": 3
      },
      "file_extension": ".py",
      "mimetype": "text/x-python",
      "name": "python",
      "nbconvert_exporter": "python",
      "pygments_lexer": "ipython3",
      "version": "3.9.16"
    }
  },
  "nbformat": 4,
  "nbformat_minor": 0
}
